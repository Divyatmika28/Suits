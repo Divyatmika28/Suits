{
 "cells": [
  {
   "cell_type": "markdown",
   "metadata": {},
   "source": [
    "# LetsNet Model for summarization for CASS French Dataset\n"
   ]
  },
  {
   "cell_type": "code",
   "execution_count": 1,
   "metadata": {},
   "outputs": [],
   "source": [
    "#Running code for a set of segmented french legal documents\n"
   ]
  },
  {
   "cell_type": "code",
   "execution_count": 14,
   "metadata": {},
   "outputs": [
    {
     "name": "stdout",
     "output_type": "stream",
     "text": [
      "ROUGE score: {'rouge-1': {'f': 0.3722279734021134, 'p': 0.3256664297183214, 'r': 0.5215381566390821}, 'rouge-2': {'f': 0.15983473131337622, 'p': 0.1412333845302405, 'r': 0.22030679362606542}, 'rouge-l': {'f': 0.30207819974032574, 'p': 0.2598302131144868, 'r': 0.40217402469314634}}\n"
     ]
    }
   ],
   "source": [
    "import os\n",
    "from sentence_transformers import SentenceTransformer\n",
    "from rouge import Rouge\n",
    "from sklearn.cluster import KMeans, DBSCAN\n",
    "import numpy as np\n",
    "from sklearn.metrics import pairwise_distances_argmin_min\n",
    "import json\n",
    "\n",
    "def evaluate(model_sum, gt_sum):\n",
    "    rouge = Rouge()\n",
    "    return rouge.get_scores(model_sum, gt_sum, avg=True)\n",
    "\n",
    "\n",
    "\n",
    "input_path_cases= os.listdir('testSegmentedCases/')\n",
    "model_sum = []\n",
    "true_sum = []\n",
    "embedder = SentenceTransformer('distiluse-base-multilingual-cased')\n",
    "root = \"testSegmentedCases/\"\n",
    "for file in input_path_cases:\n",
    "    file_path = os.path.join(root,file)\n",
    "    if '.txt' in file_path:\n",
    "        with open(file_path) as f:\n",
    "            corpus = json.load(f)\n",
    "        #res = corpus.split(\"@summary \")\n",
    "        #text,corpus_summary = res[0],res[1]\n",
    "        train_sum=\"\"\n",
    "        corpus_sample = []\n",
    "        for key,value in corpus.items():\n",
    "            if key!='Summary':\n",
    "                corpus_sample.append(value)\n",
    "        str1 = ''.join(corpus_sample)\n",
    "        legal_corpus = str1.split(\" , \")\n",
    "        sentence_embeddings = embedder.encode(legal_corpus)\n",
    "        enc_embedding = sentence_embeddings\n",
    "        n_clusters = int(np.ceil(len(enc_embedding)**0.5))\n",
    "        kmeans = KMeans(n_clusters=n_clusters, random_state=0)\n",
    "        kmeans = kmeans.fit(enc_embedding)\n",
    "        avg = []\n",
    "        closest = []\n",
    "        for j in range(n_clusters):\n",
    "            idx = np.where(kmeans.labels_ == j)[0]\n",
    "            avg.append(np.mean(idx))\n",
    "        closest, _ = pairwise_distances_argmin_min(kmeans.cluster_centers_,\\\n",
    "                                                   enc_embedding)\n",
    "        ordering = sorted(range(n_clusters), key=lambda k: avg[k])\n",
    "        gen_summary = ' '.join([legal_corpus[closest[idx]] for idx in ordering])\n",
    "        model_sum.append(gen_summary)\n",
    "        true_sum.append(corpus['Summary'])\n",
    "\n",
    "\n",
    "print(\"ROUGE score: {}\".format(evaluate(model_sum, true_sum)))"
   ]
  }
 ],
 "metadata": {
  "kernelspec": {
   "display_name": "Python 3",
   "language": "python",
   "name": "python3"
  },
  "language_info": {
   "codemirror_mode": {
    "name": "ipython",
    "version": 3
   },
   "file_extension": ".py",
   "mimetype": "text/x-python",
   "name": "python",
   "nbconvert_exporter": "python",
   "pygments_lexer": "ipython3",
   "version": "3.6.5"
  }
 },
 "nbformat": 4,
 "nbformat_minor": 2
}
