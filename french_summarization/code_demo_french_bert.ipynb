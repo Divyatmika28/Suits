{
 "cells": [
  {
   "cell_type": "markdown",
   "metadata": {},
   "source": [
    "# BERT Model for summarization for CASS French Dataset\n"
   ]
  },
  {
   "cell_type": "markdown",
   "metadata": {},
   "source": [
    "# Example Legal Document in French"
   ]
  },
  {
   "cell_type": "code",
   "execution_count": 15,
   "metadata": {},
   "outputs": [],
   "source": [
    "with open('sampletestcases/JURITEXT000007000221.txt') as f:\n",
    "    case_text = f.read()"
   ]
  },
  {
   "cell_type": "code",
   "execution_count": 16,
   "metadata": {},
   "outputs": [
    {
     "data": {
      "text/plain": [
       "\"sur le moyen unique : attendu que la caisse primaire fait grief a la cour d' appel d' avoir dit que dame streelecki proprietaire indivise avec ses enfants d' un fonds de blanchisserie - laverie qu' elle avait concede a compter du 1er avril 1972 en location - gerance a son frere avait ete a bon droit , affiliee par celui - ci au regime general de la securite sociale au titre de l' activite de repasseuse salariee qu' elle avait exercee dans le fonds a partir du 2 mai 1972 alors que la situation de proprietaire indivis du fonds de commerce etait exclusive d' un etat de subordination de dame x... vis - a - vis du locataire gerant , son frere ;\\nmais attendu que la cour d' appel releve qu' il n' est pas conteste que , sans fraude , dame x... a donne en location - gerance a compter du 1er avril 1972 le fonds de commerce dont elle etait coproprietaire indivise ;\\nqu' elle est entree le 2 mai 1972 au service du locataire gerant en executant , sans aucun pouvoir de direction sur la marche de l' entreprise , un travail subalterne de repasseuse selon un horaire impose et moyennant une remuneration normale passee en comptabilite et soumise a precompte et a cotisation de securite sociale ;\\nqu' en l' etat de ces constatations la cour d' appel etait fondee a decider qu' en l' espece la dame x... , en depit de sa qualite de proprietaire indivise du fonds de commerce , se trouvait dans un etat de subordination vis - a - vis du gerant libre qui reunissait tous les pouvoirs sur l' entreprise et le personnel ;\\nd' ou il suit que la cour d' appel a legalement justifie sa decision et que le moyen ne saurait etre accueilli ;\\npar ces motifs : rejette le pourvoi forme contre l' arret rendu le 6 mars 1976 par la cour d' appel de paris .\\n@summary le proprietaire indivis d' un fonds de commerce qui , apres avoir donne celui - ci en location - gerance a son frere , est entre au service de ce dernier , et execute sans aucun pouvoir de direction sur la marche de l' entreprise , un travail subalterne selon un horaire impose et moyennant une remuneration normale soumise a precompte , se trouve , vis-a-vis du gerant libre , dans un etat de subordination entrainant son assujettissement au regime general de la securite sociale . \""
      ]
     },
     "execution_count": 16,
     "metadata": {},
     "output_type": "execute_result"
    }
   ],
   "source": [
    "case_text"
   ]
  },
  {
   "cell_type": "code",
   "execution_count": 21,
   "metadata": {},
   "outputs": [],
   "source": [
    "#Running code for a set of 20 legal documents \n",
    "#sampletestcases is the folder which contains 20 legal documents"
   ]
  },
  {
   "cell_type": "code",
   "execution_count": 22,
   "metadata": {},
   "outputs": [
    {
     "name": "stdout",
     "output_type": "stream",
     "text": [
      "ROUGE score: {'rouge-1': {'f': 0.39499565914606827, 'p': 0.41642887606506196, 'r': 0.42123943076273473}, 'rouge-2': {'f': 0.17382500770742584, 'p': 0.18503580633895717, 'r': 0.1833161097304338}, 'rouge-l': {'f': 0.26467613788232125, 'p': 0.27126577515267214, 'r': 0.2776789134404475}}\n"
     ]
    }
   ],
   "source": [
    "import os\n",
    "from sentence_transformers import SentenceTransformer\n",
    "from rouge import Rouge\n",
    "from sklearn.cluster import KMeans, DBSCAN\n",
    "import numpy as np\n",
    "from sklearn.metrics import pairwise_distances_argmin_min\n",
    "\n",
    "def evaluate(model_sum, gt_sum):\n",
    "    rouge = Rouge()\n",
    "    return rouge.get_scores(model_sum, gt_sum, avg=True)\n",
    "\n",
    "\n",
    "\n",
    "input_path_cases= os.listdir('sampletestcases/')\n",
    "model_sum = []\n",
    "true_sum = []\n",
    "embedder = SentenceTransformer('distiluse-base-multilingual-cased')\n",
    "root = \"sampletestcases\"\n",
    "for file in input_path_cases:\n",
    "    file_path = os.path.join(root,file)\n",
    "    if '.txt' in file_path:\n",
    "        with open(file_path) as f:\n",
    "            corpus = f.read()\n",
    "        res = corpus.split(\"@summary \")\n",
    "        text,corpus_summary = res[0],res[1]\n",
    "        legal_corpus = text.split(\" , \")\n",
    "        sentence_embeddings = embedder.encode(legal_corpus)\n",
    "        enc_embedding = sentence_embeddings\n",
    "        n_clusters = int(np.ceil(len(enc_embedding)**0.5))\n",
    "        kmeans = KMeans(n_clusters=n_clusters, random_state=0)\n",
    "        kmeans = kmeans.fit(enc_embedding)\n",
    "        avg = []\n",
    "        closest = []\n",
    "        for j in range(n_clusters):\n",
    "            idx = np.where(kmeans.labels_ == j)[0]\n",
    "            avg.append(np.mean(idx))\n",
    "        closest, _ = pairwise_distances_argmin_min(kmeans.cluster_centers_,\\\n",
    "                                                   enc_embedding)\n",
    "        ordering = sorted(range(n_clusters), key=lambda k: avg[k])\n",
    "        gen_summary = ' '.join([legal_corpus[closest[idx]] for idx in ordering])\n",
    "        model_sum.append(gen_summary)\n",
    "        true_sum.append(corpus_summary)\n",
    "\n",
    "\n",
    "print(\"ROUGE score: {}\".format(evaluate(model_sum, true_sum)))"
   ]
  },
  {
   "cell_type": "code",
   "execution_count": 24,
   "metadata": {},
   "outputs": [
    {
     "data": {
      "text/plain": [
       "\"leurs activites identiques ou complementaires alors que les deux societes relevant d' inspecteurs du travail differents ( celui du port autonome pour l' une et celui des transports pour l' autre ) pris de la violation des articles l. 412 et suivants du code du travail : attendu qu' il est reproche au jugement attaque d' avoir decide que les deux societes korsia - revel et france - afrique formaient un ensemble economique et social unique permettant la designation d' un delegue syndical commun enfin que ne faisait pas obstacle a cette unite le fait qu' elles fussent soumises a des conventions collectives differentes et ne relevassent pas du meme inspecteur du travail vu la connexite\""
      ]
     },
     "execution_count": 24,
     "metadata": {},
     "output_type": "execute_result"
    }
   ],
   "source": [
    "model_sum[5]"
   ]
  },
  {
   "cell_type": "code",
   "execution_count": 25,
   "metadata": {},
   "outputs": [
    {
     "data": {
      "text/plain": [
       "\"constituent un ensemble economique et social , justifiant la designation d' un delegue syndical commun , deux societes dont les activites sont tellement similaires que le personnel d' encadrement est commun et le personnel d' execution interchangeable , l' une d' entre elles exercant simplement une activite supplementaire de caractere accessoire , et qui ne se differencient que par des elements secondaires ( controle medical et inspection du travail ) . \""
      ]
     },
     "execution_count": 25,
     "metadata": {},
     "output_type": "execute_result"
    }
   ],
   "source": [
    "true_sum[5]"
   ]
  },
  {
   "cell_type": "code",
   "execution_count": 23,
   "metadata": {},
   "outputs": [
    {
     "data": {
      "text/plain": [
       "[\"l. 433 - 2 du code du travail et 455 du nouveau code de procedure civile ;\\nattendu que les elections pour le renouvellement des membres des comites d' etablissement institues dans la bank of america l' autre groupant la succursale de paris et les agences de lyon que dans l' agence de strasbourg avait eu des elus aux elections precedentes ;\\nd' ou il suit que le tribunal a faussement applique et donc viole les textes susvises ;\\npar ces motifs : casse et annule le jugement rendu entre les parties le 28 juin 1977 par le tribunal d' instance du 16e arrondissement de paris ;\\nremet cependant\",\n",
       " \"affiliee par celui - ci au regime general de la securite sociale au titre de l' activite de repasseuse salariee qu' elle avait exercee dans le fonds a partir du 2 mai 1972 alors que la situation de proprietaire indivis du fonds de commerce etait exclusive d' un etat de subordination de dame x... vis - a - vis du locataire gerant sans aucun pouvoir de direction sur la marche de l' entreprise un travail subalterne de repasseuse selon un horaire impose et moyennant une remuneration normale passee en comptabilite et soumise a precompte et a cotisation de securite sociale ;\\nqu' en l' etat de ces constatations la cour d' appel etait fondee a decider qu' en l' espece la dame x...\",\n",
       " \"des articles 455 et 458 du nouveau code de procedure civile de cure d' une part ni la convention collective nationale du travail de l' enfance inadaptee du 15 mars 1966 alors que qu' un avenant a une convention collective etendue n' est applicable aux entreprises non signataires que s' il a lui - meme fait l' objet d' un arrete d' extension\",\n",
       " \"de l' arrete du 28 mars 1956 des cotisations de securite sociale sur les pourboires verses a ses employes que la personne agissait en tant que preposee non pas du personnel mais de l' employeur ;\\nmais attendu qu' apres avoir releve que dame x... niait que les sommes recueillies etaient reparties chaque semaine par la caissiere ou une autre employee fait grief a la cour d' appel d' avoir declare qu' elle etait redevable en application non de l' article 2\",\n",
       " \"7 de la loi du 20 avril 1810 et 455 du code de procedure civile : attendu qu' il est reproche au jugement attaque d' avoir deboute le syndicat cfdt de son recours contre la decision de la societe de la librairie hachette de refuser d' inscrire sur les listes electorales etablies en vue de l' election des delegues du personnel les aides - vendeurs des bibliotheques de gare alors en raison des horaires d' ouverture des bibliotheques dans l' obligation d' embaucher des aides - vendeurs et y etaient autorises par la societe tire de ses constations les consequences legales qui s' en evincaient necessairement par ailleurs que le tribunal ne pouvait encore sans contradiction constater que le salaire et les charges sociales des vendeurs etaient supportees par la societe qui cotisait aussi pour ceux - ci a la caisse complementaire des retraites\",\n",
       " \"leurs activites identiques ou complementaires alors que les deux societes relevant d' inspecteurs du travail differents ( celui du port autonome pour l' une et celui des transports pour l' autre ) pris de la violation des articles l. 412 et suivants du code du travail : attendu qu' il est reproche au jugement attaque d' avoir decide que les deux societes korsia - revel et france - afrique formaient un ensemble economique et social unique permettant la designation d' un delegue syndical commun enfin que ne faisait pas obstacle a cette unite le fait qu' elles fussent soumises a des conventions collectives differentes et ne relevassent pas du meme inspecteur du travail vu la connexite\",\n",
       " 'alors que alors qu\\' enfin la decision ne pouvait sans contradiction constater qu\\' il etait inconteste que ces allocations forfaitaires etaient destinees a compenser des frais professionnels et declarer incluses dans l\\' assiette des cotisations ces memes indemnites forfaitaires \" dans la mesure ou elles constituent un avantage en nature \" ;\\nmais attendu qu\\' apres avoir releve qu\\' il n\\' est pas conteste que les allocations forfaitaires de frais de garage qui ne conteste ni l\\' existence de frais professionnels ni leur utilisation conforme a leur objet sans se contredire ni renverser la charge de la preuve',\n",
       " \"sur le moyen unique : vu l' article 12 de la convention collective des industries metallurgiques pour dire dame x... engagee le 20 aout 1974 et licenciee le 9 juillet 1976 bien fondee dans sa demande de dommages - interets pour rupture abusive de contrat de travail par la societe anonyme alpia la convention collective applicable ne permettrait pas un licenciement pour cause de maladie lorsque les absences n' excedaient pas six mois qu' enfin qui n' avait pas ete invoquee lors du licenciement les renvoie devant le conseil de prud' hommes de dole .\\n\",\n",
       " \"sur le moyen unique : vu la loi n 74 - 1115 du 27 decembre 1974 ;\\nattendu que pour declarer irrecevable l' appel interjete par l' urssaf des bouches - du - rhone la cour d' appel declare que le delai d' appel etait expire depuis le 22 novembre 1974 ;\\nqu' en statuant ainsi en consequence les renvoie devant la cour d' appel d' orleans .\\n\",\n",
       " \"l. 124 - 1 et suivants du code du travail d' une part que leclerq avait ete employe par trois entreprises de travail temporaire la sarl fmc et la sa fmc qui conteste le montant de certaines des sommes allouees a x...\",\n",
       " \"lequel ne remplissait pas les conditions d' exoneration definies par l' ordonnance du 27 septembre 1967 la circonstance que le titre en cause ait pu etre utilise dans les restaurants agrees par l' employeur ou aupres des commercants en alimentation etant sans influence sur l' obligation faite a l' employeur de cotiser sur tous les elements de la remuneration ;\\nd' ou il suit que le moyen n' est pas fonde ;\\npar ces motifs : rejette le pourvoi forme contre l' arret rendu le 20 mai 1976 par la cour d' appel de paris .\\n en l' absence de toute contribution des salaries\",\n",
       " 'aux motifs que selon l\\' article l. 341 - 4 du code du travail defaut de reponse a conclusions d\\' une part alors que le contrat de travail conclu en meconnaissance de ladite disposition etait entache d\\' une nullite absolue que les juges du fond ont constate que \" club et entraineur \" connaissaient tous deux la situation irreguliere en france de ce dernier ;\\nque son employeur etait recevable a se prevaloir de la nullite d\\' ordre public du contrat de travail ;\\nd\\' autre part',\n",
       " \"magasinier a la quincaillerie generale a lyon l' arret attaque a rejete le recours forme par dame veuve x... aux motifs qu' il ne pouvait s' agir d' un accident de trajet des lors qu' il n' etait ni etabli ni allegue qu' un evenement exterieur et violent fut intervenu pour provoquer le malaise de la victime ;\\nque les ayants - droit de x... ne beneficiaient pas de la presomption d' imputabilite comme si son malaise s' etait produit au temps et au lieu de travail et qu' ils n' avaient pas apporte la preuve que le deces de l' interesse eut ete en relation medicale avec son travail ;\\nattendu qu' en statuant ainsi alors la cour d' appel a viole les textes susvises ;\\npar ces motifs : casse et annule l' arret rendu entre les parties le 26 mai 1976 par la cour d' appel de lyon ;\\nremet en consequence il regagnait a pied son domicile\",\n",
       " \"qu' il en est tout autrement lorsqu' elle est importante et celle de l' employeur minime la cour d' appel observe a bon droit que la participation de l' employeur qui prenait a sa charge la difference aboutissait a ramener la contribution des salaries a une somme inferieure a celle resultant des arretes ministeriels fixant de facon forfaitaire la valeur des repas pris hors du domicile ;\\nqu' en l' etat de ces constatations qu' il appartient donc aux juges de rechercher avant tout qu' elle etait l' importance de la participation du salarie et de determiner si son montant excluait toute idee de gratuite ;\\nmais attendu qu' apres avoir releve qu' entre le 1er juin 1967 et le 31 decembre 1970\",\n",
       " \"alors que defaut de motifs et de base legale : attendu que la societe audincourt fait grief au jugement attaque de l' avoir condamnee a payer diverses sommes a ses salaries en se bornant a adopter les chiffres presentes par eux et qui etait tenu de les en remunerer 1134 du code civil 7 de la loi du 20 avril 1810 si l' employeur avait demande a ses salaries d' etre prets a reprendre le travail des que la greve cesserait ils avaient meconnu les termes du litige\",\n",
       " \"fabricant de peintures et vernis et monie sur le moyen unique : vu les articles 1134 du code civil et l. 132 - 1 et suivants du code du travail ;\\nattendu qu' il resulte des constatations des juges du fond que monie avaot ete engage par claude selon contrat stipulant la conformite de ses clauses aux conventions collectives du groupement des peintures et vernis ;\\nque l' arret attaque a estime que les decisions prevoyant des augmentations de salaires de l' union des industries chimiques s' imposaient aux relations entre claude si claude avait accepte d' appliquer certaines d' entre elles d' une part pour etre fait droit\",\n",
       " '1134 du code civil se pretendant retrograde aux motifs que gonzales s\\' etait refuse aux pourparlers et a essai avait fait montre d\\' intransigeance et s\\' etait refuse a tenter toute collaboration avec vasovic ;\\nque les juges du fond ont pu deduire de ces constatations et appreciations que le sco n\\' avait pas modifie unilateralement les conditions essentielles du contrat de gonzales gonzales qui avait lui - meme manifeste le desir de se voir adjoindre un \" preparateur physique \" fut informe par lettre du 20 decembre 1974 que vasovic avait ete engage a compter du 30 decembre notamment celles de l\\' entrainement technique et tactique et de la formation et de la direction des equipes',\n",
       " 'l. 122 - 6 pris de la violation des articles 1382 du code civil d\\' une part alors que aux motifs qu\\' en licenciant x... sur - le - champ ce salarie n\\' ayant pas eu l\\' initiative de la rixe et la societe n\\' ayant pas apporte bien que les juges d\\' appel aient admis que cette rixe constituait un motif \" grave \" et serieux de licenciement etait fonde a obtenir une indemnite compensatrice de delai - conge et une indemnite de licenciement',\n",
       " \"sur le moyen unique en outre laquelle ne peut etre remise en cause devant la cour de cassation que les locaux comme le personnel de la societe regnaud et du gie etaient distincts sans aucune interference entre les deux personnes morales ;\\nqu' il a retenu que la societe regnaud n' avait aucune preponderance dans la direction du gie pour laquelle elle etait a egalite avec chacune des quatre autres societes le composant ;\\nqu' il a exclu toute intention de fraude a la loi sociale en raison de cette position minoritaire et en raison de l' anciennete des deux personnes morales en cause ce qui suffisait a caracteriser leur unite economique ;\\nalors par un motif qui meconnait les differences pouvant exister entre les diverses institutions de representation du personnel mais qui est surabondant ce que pris isolement\",\n",
       " \"a compter du 1er fevrier 1975 que l' article l. 122 - 12 du code du travail notamment qu' il n' y a pas continuite economique de l' entreprise de gardiennage ni modification juridique pour accueillir la demande d' ancelin et mettre hors de cause la societe video informe les employes qu' elle y occupait qu' elle serait remplacee dans cette tache\"]"
      ]
     },
     "execution_count": 23,
     "metadata": {},
     "output_type": "execute_result"
    }
   ],
   "source": [
    "model_sum"
   ]
  },
  {
   "cell_type": "code",
   "execution_count": null,
   "metadata": {},
   "outputs": [],
   "source": []
  }
 ],
 "metadata": {
  "kernelspec": {
   "display_name": "Python 3",
   "language": "python",
   "name": "python3"
  },
  "language_info": {
   "codemirror_mode": {
    "name": "ipython",
    "version": 3
   },
   "file_extension": ".py",
   "mimetype": "text/x-python",
   "name": "python",
   "nbconvert_exporter": "python",
   "pygments_lexer": "ipython3",
   "version": "3.6.5"
  }
 },
 "nbformat": 4,
 "nbformat_minor": 2
}
